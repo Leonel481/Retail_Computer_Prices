{
 "cells": [
  {
   "cell_type": "code",
   "execution_count": 1,
   "metadata": {},
   "outputs": [],
   "source": [
    "from selenium.webdriver import Chrome\n",
    "from selenium.webdriver.chrome.options import Options\n",
    "import os\n",
    "from selenium import webdriver\n",
    "import pandas as pd\n",
    "import numpy as np"
   ]
  },
  {
   "cell_type": "code",
   "execution_count": 15,
   "metadata": {},
   "outputs": [],
   "source": [
    "os.chdir('C:/Users/raini/data_engineer/Retail_Computer_Prices/')"
   ]
  },
  {
   "cell_type": "code",
   "execution_count": 9,
   "metadata": {},
   "outputs": [
    {
     "data": {
      "text/plain": [
       "['.git',\n",
       " 'chromedriver.exe',\n",
       " 'LICENSE.chromedriver',\n",
       " 'README.md',\n",
       " 'test_1.ipynb']"
      ]
     },
     "execution_count": 9,
     "metadata": {},
     "output_type": "execute_result"
    }
   ],
   "source": [
    "os.listdir()"
   ]
  },
  {
   "cell_type": "code",
   "execution_count": 23,
   "metadata": {},
   "outputs": [
    {
     "name": "stderr",
     "output_type": "stream",
     "text": [
      "<ipython-input-23-142500af7b98>:1: DeprecationWarning: executable_path has been deprecated, please pass in a Service object\n",
      "  driver = webdriver.Chrome('C:/Users/raini/Downloads/chromedriver_win32/chromedriver.exe')\n",
      "<ipython-input-23-142500af7b98>:3: DeprecationWarning: find_elements_by_* commands are deprecated. Please use find_elements() instead\n",
      "  items = driver.find_elements_by_xpath('//div[@class=\"col-g-2-5\"]') #//*[@id=\"app-web\"]/main/div[1]/div/div/div[2]/div[2]/div/div[1]/div/div/div[2]/h4/a\n",
      "c:\\Users\\raini\\anaconda3\\lib\\site-packages\\selenium\\webdriver\\remote\\webelement.py:393: UserWarning: find_element_by_* commands are deprecated. Please use find_element() instead\n",
      "  warnings.warn(\"find_element_by_* commands are deprecated. Please use find_element() instead\")\n"
     ]
    }
   ],
   "source": [
    "driver = webdriver.Chrome('C:/Users/raini/Downloads/chromedriver_win32/chromedriver.exe') \n",
    "driver.get('https://www.impacto.com.pe/catalogo?menu=Componentes')\n",
    "items = driver.find_elements_by_xpath('//div[@class=\"col-g-2-5\"]') #//*[@id=\"app-web\"]/main/div[1]/div/div/div[2]/div[2]/div/div[1]/div/div/div[2]/h4/a\n",
    "prices = []\n",
    "products = []\n",
    "details = []\n",
    "\n",
    "for item in items:\n",
    "    products = item.find_element_by_xpath('.//h4[@class=\"product-title\"]').text\n",
    "    prices = item.find_element_by_xpath('.//div[@class=\"product-price\"]').text\n",
    "    details = item.find_element_by_xpath('.//div[@class=\"detail\"]').text"
   ]
  },
  {
   "cell_type": "code",
   "execution_count": 24,
   "metadata": {},
   "outputs": [
    {
     "data": {
      "text/plain": [
       "'MINICÓDIGO: 013091\\nSTOCK: +10'"
      ]
     },
     "execution_count": 24,
     "metadata": {},
     "output_type": "execute_result"
    }
   ],
   "source": [
    "details"
   ]
  },
  {
   "cell_type": "code",
   "execution_count": null,
   "metadata": {},
   "outputs": [],
   "source": []
  }
 ],
 "metadata": {
  "kernelspec": {
   "display_name": "base",
   "language": "python",
   "name": "python3"
  },
  "language_info": {
   "codemirror_mode": {
    "name": "ipython",
    "version": 3
   },
   "file_extension": ".py",
   "mimetype": "text/x-python",
   "name": "python",
   "nbconvert_exporter": "python",
   "pygments_lexer": "ipython3",
   "version": "3.8.5"
  },
  "orig_nbformat": 4
 },
 "nbformat": 4,
 "nbformat_minor": 2
}
