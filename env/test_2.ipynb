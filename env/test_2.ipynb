{
 "cells": [
  {
   "cell_type": "code",
   "execution_count": 1,
   "metadata": {},
   "outputs": [],
   "source": [
    "import requests\n",
    "from bs4 import BeautifulSoup\n",
    "import re"
   ]
  },
  {
   "cell_type": "code",
   "execution_count": 6,
   "metadata": {},
   "outputs": [],
   "source": [
    "category = 'Componentes'\n",
    "page = 29\n",
    "url_base = 'https://www.impacto.com.pe/catalogo?menu='\n",
    "url = url_base + category + '&page=' + str(page)\n",
    "response = requests.get(url)"
   ]
  },
  {
   "cell_type": "code",
   "execution_count": 8,
   "metadata": {},
   "outputs": [],
   "source": [
    "while response.status_code == 200:\n",
    "    print(page)\n",
    "    print(url)\n",
    "    print(response.status_code)\n",
    "    page += 1\n",
    "    url = url_base + category + '&page=' + str(page)\n",
    "    response = requests.get(url)\n"
   ]
  },
  {
   "cell_type": "code",
   "execution_count": 2,
   "metadata": {},
   "outputs": [],
   "source": [
    "url = 'https://www.impacto.com.pe/catalogo?menu=Componentes'\n",
    "\n",
    "r = requests.get(url)\n",
    "soup = BeautifulSoup(r.text, 'html.parser')\n",
    "list_titles = []\n",
    "list_links = []\n",
    "list_details_mc = []\n",
    "list_details_s = []\n",
    "list_ratings = []\n",
    "list_prices_s = []\n",
    "list_prices_d = []\n",
    "list_images = []\n",
    "titles = soup.find_all('h4', class_='product-title')\n",
    "details = soup.find_all('div', class_='detail')\n",
    "ratings = soup.find_all('ul', class_='product-rating')\n",
    "prices = soup.find_all('div', class_='product-price')\n",
    "images = soup.find_all('div', class_='product-image')\n",
    "\n",
    "for title in titles:\n",
    "    a = title.text.strip()\n",
    "    list_titles.append(a)\n",
    "    b = title.find('a')['href']  \n",
    "    list_links.append(b)\n",
    "\n",
    "for detail in details:\n",
    "    a = detail.text.strip()\n",
    "    list_temp = a.split('\\n')\n",
    "    b = re.sub(r'[\\D]+', '', list_temp[0])\n",
    "    c = re.sub(r'[\\D]+', '', list_temp[1])\n",
    "    list_details_mc.append(b)\n",
    "    list_details_s.append(c)\n",
    "\n",
    "for rating in ratings:\n",
    "    list_temp_r = rating.find_all('li', class_='rating-on')\n",
    "    list_ratings.append(len(list_temp_r))\n",
    "\n",
    "for price in prices:\n",
    "    list_temp_pr = price.text.strip().split('\\n')\n",
    "    p_sol = float(re.sub(r'[\\s$\\-]+','',list_temp_pr[0]))\n",
    "    p_dollar = float(re.sub(r'[\\sS\\-\\/]+','',list_temp_pr[1]))\n",
    "    list_prices_s.append(p_sol)\n",
    "    list_prices_d.append(p_dollar)\n",
    "\n",
    "for image in images:\n",
    "    i = image.find('img')['src']\n",
    "    list_images.append(i)"
   ]
  },
  {
   "cell_type": "code",
   "execution_count": null,
   "metadata": {},
   "outputs": [],
   "source": []
  }
 ],
 "metadata": {
  "kernelspec": {
   "display_name": "base",
   "language": "python",
   "name": "python3"
  },
  "language_info": {
   "codemirror_mode": {
    "name": "ipython",
    "version": 3
   },
   "file_extension": ".py",
   "mimetype": "text/x-python",
   "name": "python",
   "nbconvert_exporter": "python",
   "pygments_lexer": "ipython3",
   "version": "3.8.5"
  },
  "orig_nbformat": 4
 },
 "nbformat": 4,
 "nbformat_minor": 2
}
