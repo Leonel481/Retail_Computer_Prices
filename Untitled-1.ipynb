{
 "cells": [
  {
   "cell_type": "code",
   "execution_count": 1,
   "metadata": {},
   "outputs": [],
   "source": [
    "import requests\n",
    "import re\n",
    "import pandas as pd\n",
    "from requests_html import HTMLSession\n",
    "from bs4 import BeautifulSoup\n",
    "s=HTMLSession()"
   ]
  },
  {
   "cell_type": "code",
   "execution_count": 16,
   "metadata": {},
   "outputs": [],
   "source": [
    "class Impacto:\n",
    "    def __init__(self, category, source):\n",
    "        self.category = category\n",
    "        self.source = source\n",
    "    def __str__(self):\n",
    "        return f\"Extrae informacion de la categoria: {self.category} y la almacenada: {self.source}\"\n",
    "    def pagination(self):\n",
    "        url = \"https://www.impacto.com.pe/catalogo?menu=\" + self.category\n",
    "        r = s.get(url)\n",
    "        soup = BeautifulSoup(r.text, 'html.parser')\n",
    "        pages = soup.find('ul',class_= 'pagination')\n",
    "        number_pag = int(pages.find_all('a', class_= 'page-link')[-2].text)\n",
    "        return number_pag\n",
    "    def scraper(self, n):\n",
    "        list_titles = []\n",
    "        list_links = []\n",
    "        list_codes = []\n",
    "        list_stocks = []\n",
    "        list_ratings = []\n",
    "        list_prices_usd = []\n",
    "        list_prices_pen = []\n",
    "        list_images = []\n",
    "        for i in range(1, n + 1):\n",
    "            url = \"https://www.impacto.com.pe/catalogo?menu=\" + self.category + \"&page=\" + str(i)\n",
    "            r = requests.get(url)\n",
    "            soup = BeautifulSoup(r.text, 'html.parser')\n",
    "            titles = soup.find_all('h4', class_='product-title')\n",
    "            details = soup.find_all('div', class_='detail')\n",
    "            ratings = soup.find_all('ul', class_='product-rating')\n",
    "            prices = soup.find_all('div', class_='product-price')\n",
    "            images = soup.find_all('div', class_='product-image')\n",
    "\n",
    "            for title in titles:\n",
    "                a = title.text.strip()\n",
    "                list_titles.append(a)\n",
    "                b = title.find('a')['href']  \n",
    "                list_links.append(b)\n",
    "\n",
    "            for detail in details:\n",
    "                a = detail.text.strip()\n",
    "                list_temp = a.split('\\n')\n",
    "                b = re.sub(r'[\\D]+', '', list_temp[0])\n",
    "                c = re.sub(r'[\\D]+', '', list_temp[1])\n",
    "                list_codes.append(b)\n",
    "                list_stocks.append(c)\n",
    "\n",
    "            for rating in ratings:\n",
    "                list_temp_r = rating.find_all('li', class_='rating-on')\n",
    "                list_ratings.append(len(list_temp_r))\n",
    "\n",
    "            for price in prices:\n",
    "                list_temp_pr = price.text.strip().split('\\n')\n",
    "                p_sol = float(re.sub(r'[\\s$\\-]+','',list_temp_pr[0]))\n",
    "                p_dollar = float(re.sub(r'[\\sS\\-\\/]+','',list_temp_pr[1]))\n",
    "                list_prices_usd.append(p_sol)\n",
    "                list_prices_pen.append(p_dollar)\n",
    "\n",
    "            for image in images:\n",
    "                i = image.find('img')['src']\n",
    "                list_images.append(i)\n",
    "            data = {'titles':list_titles,'links':list_links, 'details_mc':list_codes, 'details_s':list_stocks, 'ratings':list_ratings,\n",
    "                    'prices_usd':list_prices_usd, 'prices_pen':list_prices_pen, 'images':list_images}\n",
    "        dataDF = pd.DataFrame(data = data)\n",
    "        return dataDF"
   ]
  },
  {
   "cell_type": "code",
   "execution_count": 17,
   "metadata": {},
   "outputs": [
    {
     "data": {
      "text/plain": [
       "30"
      ]
     },
     "execution_count": 17,
     "metadata": {},
     "output_type": "execute_result"
    }
   ],
   "source": [
    "S = Impacto('Componentes','df')\n",
    "paginast1 = S.pagination()\n",
    "paginast1"
   ]
  },
  {
   "cell_type": "code",
   "execution_count": 18,
   "metadata": {},
   "outputs": [],
   "source": [
    "datos = S.scraper(paginast1)"
   ]
  },
  {
   "cell_type": "code",
   "execution_count": 57,
   "metadata": {},
   "outputs": [],
   "source": [
    "class Sercoplus:\n",
    "    def __init__(self, category, source):\n",
    "        self.category = category\n",
    "        self.source = source\n",
    "    def __str__(self):\n",
    "        return f\"Extrae informacion de la categoria: {self.category} y la almacenada: {self.source}\"\n",
    "    def pagination(self):\n",
    "        url = 'https://www.sercoplus.com/731-arma-tu-pc'\n",
    "        headers = {'user-agent':'Mozilla/5.0 (Windows NT 10.0; Win64; x64) AppleWebKit/537.36 (KHTML, like Gecko) Chrome/117.0.0.0 Safari/537.36 Edg/117.0.2045.47'}\n",
    "        r = requests.get(url, headers=headers)\n",
    "        soup = BeautifulSoup(r.text, 'html.parser')\n",
    "        pages = soup.find('ul', class_='page-list')\n",
    "        pagina_final = pages.find_all('a', class_='js-search-link')[-2].text\n",
    "        pagina_final = int(pagina_final.strip())\n",
    "        return pagina_final\n",
    "    def scraper(self, n):\n",
    "        list_titles=[]\n",
    "        list_links=[]\n",
    "        list_stocks=[]\n",
    "        list_codes=[]\n",
    "        list_prices_usd=[]\n",
    "        list_prices_pen=[]\n",
    "        list_images = []\n",
    "        session = requests.Session()\n",
    "        for i in range(1, n + 1):\n",
    "            if i == 1:\n",
    "                url = 'https://www.sercoplus.com/731-arma-tu-pc'\n",
    "            else:\n",
    "                url = 'https://www.sercoplus.com/731-arma-tu-pc' + '?page=' + str(i)\n",
    "            headers = {'user-agent':'Mozilla/5.0 (Windows NT 10.0; Win64; x64) AppleWebKit/537.36 (KHTML, like Gecko) Chrome/117.0.0.0 Safari/537.36 Edg/117.0.2045.47'}\n",
    "            cookies = {'cookie': None}\n",
    "            r = session.get(url, headers=headers, cookies=cookies)\n",
    "            soup = BeautifulSoup(r.text, 'html.parser')\n",
    "            titles = soup.find_all('h5', class_='product-name')\n",
    "            details = soup.find_all('div', class_='first-prices d-flex flex-row')\n",
    "            prices = soup.find_all('div', class_='first-prices d-flex flex-column')\n",
    "            images = soup.find_all('link', itemprop='image')\n",
    "            for title in titles:\n",
    "                a = title.text.strip()\n",
    "                list_titles.append(a)\n",
    "                b = title.find('a')['href']  \n",
    "                list_links.append(b)\n",
    "            for index, value in enumerate(details):\n",
    "                if index%2 == 0:\n",
    "                    stock = value.find_all('span', class_ = 'price product-price stock-mini')[1]['data-stock']\n",
    "                    list_stocks.append(int(stock.strip()))\n",
    "                else:\n",
    "                    code = value.find_all('span', class_ = 'price product-price stock-mini')[1].text\n",
    "                    list_codes.append(code.strip())\n",
    "            for price in prices:\n",
    "                price_usd = re.sub(r'[^\\d,]', '', price.find_all('span', class_='price product-price currency2')[0].text).replace(',', '.')\n",
    "                price_pen = re.sub(r'[^\\d,]', '', price.find_all('span', class_='price product-price currency2')[1].text).replace(',', '.')\n",
    "                list_prices_usd.append(float(price_usd))\n",
    "                list_prices_pen.append(float(price_pen))\n",
    "            for image in images:\n",
    "                list_images.append(image['href'])\n",
    "            data = {'titles':list_titles,'links':list_links, 'details_mc':list_codes, 'details_s':list_stocks,\n",
    "                    'prices_usd':list_prices_usd, 'prices_pen':list_prices_pen, 'images':list_images}\n",
    "        # dataDF = pd.DataFrame(data = data)\n",
    "        # return dataDF\n",
    "        return (len(list_titles), len(list_links), len(list_codes), len(list_stocks), len(list_prices_usd), len(list_prices_pen), len(list_images))\n",
    "       \n",
    "        "
   ]
  },
  {
   "cell_type": "code",
   "execution_count": 33,
   "metadata": {},
   "outputs": [
    {
     "data": {
      "text/plain": [
       "54"
      ]
     },
     "execution_count": 33,
     "metadata": {},
     "output_type": "execute_result"
    }
   ],
   "source": [
    "S2 = Sercoplus('Componentes','df')\n",
    "paginasS1 = S2.pagination()\n",
    "paginasS1"
   ]
  },
  {
   "cell_type": "code",
   "execution_count": 49,
   "metadata": {},
   "outputs": [],
   "source": [
    "datosS = S2.scraper(paginasS1)"
   ]
  },
  {
   "cell_type": "code",
   "execution_count": 52,
   "metadata": {},
   "outputs": [
    {
     "name": "stdout",
     "output_type": "stream",
     "text": [
      "<class 'pandas.core.frame.DataFrame'>\n",
      "RangeIndex: 638 entries, 0 to 637\n",
      "Data columns (total 7 columns):\n",
      " #   Column      Non-Null Count  Dtype  \n",
      "---  ------      --------------  -----  \n",
      " 0   titles      638 non-null    object \n",
      " 1   links       638 non-null    object \n",
      " 2   details_mc  638 non-null    object \n",
      " 3   details_s   638 non-null    int64  \n",
      " 4   prices_usd  638 non-null    float64\n",
      " 5   prices_pen  638 non-null    float64\n",
      " 6   images      638 non-null    object \n",
      "dtypes: float64(2), int64(1), object(4)\n",
      "memory usage: 35.0+ KB\n"
     ]
    }
   ],
   "source": [
    "datosS.info()"
   ]
  },
  {
   "cell_type": "code",
   "execution_count": 58,
   "metadata": {},
   "outputs": [
    {
     "name": "stdout",
     "output_type": "stream",
     "text": [
      "iteración:  1   (638, 638, 638, 638, 638, 638, 637)\n",
      "iteración:  2   (638, 638, 638, 638, 638, 638, 638)\n",
      "iteración:  3   (638, 638, 638, 638, 638, 638, 637)\n",
      "iteración:  4   (638, 638, 638, 638, 638, 638, 638)\n",
      "iteración:  5   (638, 638, 638, 638, 638, 638, 636)\n",
      "iteración:  6   (638, 638, 638, 638, 638, 638, 638)\n"
     ]
    }
   ],
   "source": [
    "# datasercoplus = pd.DataFrame(columns=['titles','links','details_mc','details_s','prices_usd','prices_pen','images'])\n",
    "S2 = Sercoplus('Componentes','df')\n",
    "paginasS1 = S2.pagination()\n",
    "for r in range(0,10):\n",
    "    dft = S2.scraper(paginasS1)\n",
    "    print('iteración: ', r+1, ' ', dft)\n",
    "    # datasercoplus = pd.concat([datasercoplus, dft])"
   ]
  },
  {
   "cell_type": "code",
   "execution_count": 46,
   "metadata": {},
   "outputs": [
    {
     "data": {
      "text/html": [
       "<div>\n",
       "<style scoped>\n",
       "    .dataframe tbody tr th:only-of-type {\n",
       "        vertical-align: middle;\n",
       "    }\n",
       "\n",
       "    .dataframe tbody tr th {\n",
       "        vertical-align: top;\n",
       "    }\n",
       "\n",
       "    .dataframe thead th {\n",
       "        text-align: right;\n",
       "    }\n",
       "</style>\n",
       "<table border=\"1\" class=\"dataframe\">\n",
       "  <thead>\n",
       "    <tr style=\"text-align: right;\">\n",
       "      <th></th>\n",
       "      <th>titles</th>\n",
       "      <th>links</th>\n",
       "      <th>details_mc</th>\n",
       "      <th>details_s</th>\n",
       "      <th>prices_usd</th>\n",
       "      <th>prices_pen</th>\n",
       "      <th>images</th>\n",
       "    </tr>\n",
       "  </thead>\n",
       "  <tbody>\n",
       "    <tr>\n",
       "      <th>633</th>\n",
       "      <td>MEM. RAM G.SKILL TRIDENT Z5 RGB, BLACK/W, 64GB...</td>\n",
       "      <td>https://www.sercoplus.com/memoria-ram-pc/16992...</td>\n",
       "      <td>071183014</td>\n",
       "      <td>2</td>\n",
       "      <td>293.2</td>\n",
       "      <td>1137.62</td>\n",
       "      <td>https://www.sercoplus.com/39027-home_default/m...</td>\n",
       "    </tr>\n",
       "    <tr>\n",
       "      <th>634</th>\n",
       "      <td>MEM. RAM G.SKILL TRIDENT Z5 RGB, BLACK, 64GB (...</td>\n",
       "      <td>https://www.sercoplus.com/memoria-ram-pc/16993...</td>\n",
       "      <td>071183015</td>\n",
       "      <td>1</td>\n",
       "      <td>293.2</td>\n",
       "      <td>1137.62</td>\n",
       "      <td>https://www.sercoplus.com/39035-home_default/m...</td>\n",
       "    </tr>\n",
       "    <tr>\n",
       "      <th>635</th>\n",
       "      <td>FUENTE DE PODER COOLER MASTER G800 GOLD, 80 PL...</td>\n",
       "      <td>https://www.sercoplus.com/cooler-master/15899-...</td>\n",
       "      <td>151400007</td>\n",
       "      <td>0</td>\n",
       "      <td>112.2</td>\n",
       "      <td>435.34</td>\n",
       "      <td>https://www.sercoplus.com/36614-home_default/f...</td>\n",
       "    </tr>\n",
       "    <tr>\n",
       "      <th>636</th>\n",
       "      <td>CASE ENKORE ENC VIRTUAL 2009, F/230W</td>\n",
       "      <td>https://www.sercoplus.com/enkore/15147-case-en...</td>\n",
       "      <td>021090015</td>\n",
       "      <td>0</td>\n",
       "      <td>20.6</td>\n",
       "      <td>79.93</td>\n",
       "      <td>https://www.sercoplus.com/32456-home_default/c...</td>\n",
       "    </tr>\n",
       "    <tr>\n",
       "      <th>637</th>\n",
       "      <td>CASE GAMING MICRONICS WARRIOR MIC GC803W, 4 FA...</td>\n",
       "      <td>https://www.sercoplus.com/micronics/15730-case...</td>\n",
       "      <td>021960007</td>\n",
       "      <td>0</td>\n",
       "      <td>44.7</td>\n",
       "      <td>173.44</td>\n",
       "      <td>https://www.sercoplus.com/34860-home_default/c...</td>\n",
       "    </tr>\n",
       "  </tbody>\n",
       "</table>\n",
       "</div>"
      ],
      "text/plain": [
       "                                                titles  \\\n",
       "633  MEM. RAM G.SKILL TRIDENT Z5 RGB, BLACK/W, 64GB...   \n",
       "634  MEM. RAM G.SKILL TRIDENT Z5 RGB, BLACK, 64GB (...   \n",
       "635  FUENTE DE PODER COOLER MASTER G800 GOLD, 80 PL...   \n",
       "636               CASE ENKORE ENC VIRTUAL 2009, F/230W   \n",
       "637  CASE GAMING MICRONICS WARRIOR MIC GC803W, 4 FA...   \n",
       "\n",
       "                                                 links details_mc  details_s  \\\n",
       "633  https://www.sercoplus.com/memoria-ram-pc/16992...  071183014          2   \n",
       "634  https://www.sercoplus.com/memoria-ram-pc/16993...  071183015          1   \n",
       "635  https://www.sercoplus.com/cooler-master/15899-...  151400007          0   \n",
       "636  https://www.sercoplus.com/enkore/15147-case-en...  021090015          0   \n",
       "637  https://www.sercoplus.com/micronics/15730-case...  021960007          0   \n",
       "\n",
       "     prices_usd  prices_pen                                             images  \n",
       "633       293.2     1137.62  https://www.sercoplus.com/39027-home_default/m...  \n",
       "634       293.2     1137.62  https://www.sercoplus.com/39035-home_default/m...  \n",
       "635       112.2      435.34  https://www.sercoplus.com/36614-home_default/f...  \n",
       "636        20.6       79.93  https://www.sercoplus.com/32456-home_default/c...  \n",
       "637        44.7      173.44  https://www.sercoplus.com/34860-home_default/c...  "
      ]
     },
     "execution_count": 46,
     "metadata": {},
     "output_type": "execute_result"
    }
   ],
   "source": [
    "dft.tail()"
   ]
  },
  {
   "cell_type": "code",
   "execution_count": null,
   "metadata": {},
   "outputs": [],
   "source": []
  },
  {
   "cell_type": "code",
   "execution_count": 36,
   "metadata": {},
   "outputs": [],
   "source": [
    "datosS.to_excel('C:/Users/raini/Downloads/brochure espec web scraping.xlsx', index=False)"
   ]
  },
  {
   "cell_type": "code",
   "execution_count": 42,
   "metadata": {},
   "outputs": [
    {
     "data": {
      "text/plain": [
       "Index(['titles', 'links', 'details_mc', 'details_s', 'prices_usd',\n",
       "       'prices_pen', 'images'],\n",
       "      dtype='object')"
      ]
     },
     "execution_count": 42,
     "metadata": {},
     "output_type": "execute_result"
    }
   ],
   "source": [
    "datasercoplus.columns"
   ]
  },
  {
   "cell_type": "code",
   "execution_count": 43,
   "metadata": {},
   "outputs": [
    {
     "data": {
      "text/plain": [
       "Index(['titles', 'links', 'details_mc', 'details_s', 'prices_usd',\n",
       "       'prices_pen', 'images'],\n",
       "      dtype='object')"
      ]
     },
     "execution_count": 43,
     "metadata": {},
     "output_type": "execute_result"
    }
   ],
   "source": [
    "datosS.columns"
   ]
  },
  {
   "cell_type": "code",
   "execution_count": 3,
   "metadata": {},
   "outputs": [],
   "source": [
    "session = requests.Session()"
   ]
  },
  {
   "cell_type": "code",
   "execution_count": 4,
   "metadata": {},
   "outputs": [],
   "source": [
    "url = 'https://www.sercoplus.com/731-arma-tu-pc'\n",
    "headers = {'user-agent':'Mozilla/5.0 (Windows NT 10.0; Win64; x64) AppleWebKit/537.36 (KHTML, like Gecko) Chrome/117.0.0.0 Safari/537.36 Edg/117.0.2045.47'}\n",
    "cookies = {'cookie': None}\n",
    "\n",
    "\n",
    "r = session.get(url, headers=headers, cookies=cookies)"
   ]
  },
  {
   "cell_type": "code",
   "execution_count": 5,
   "metadata": {},
   "outputs": [
    {
     "data": {
      "text/plain": [
       "54"
      ]
     },
     "execution_count": 5,
     "metadata": {},
     "output_type": "execute_result"
    }
   ],
   "source": [
    "##SERCOPLUS\n",
    "\n",
    "soup = BeautifulSoup(r.text, 'html.parser')\n",
    "\n",
    "pages = soup.find('ul', class_='page-list')\n",
    "pagina_final = pages.find_all('a', class_='js-search-link')[-2].text\n",
    "pagina_final = int(pagina_final.strip())\n",
    "pagina_final"
   ]
  },
  {
   "cell_type": "code",
   "execution_count": 6,
   "metadata": {},
   "outputs": [],
   "source": [
    "\n",
    "soup = BeautifulSoup(r.text, 'html.parser')\n",
    "\n",
    "titles = soup.find_all('h5', class_='product-name')\n",
    "details = soup.find_all('div', class_='first-prices d-flex flex-row')\n",
    "prices = soup.find_all('div', class_='first-prices d-flex flex-column')\n",
    "# images = soup.find_all('div', class_='product-thumbnail')\n",
    "images = soup.find_all('link', itemprop='image')"
   ]
  },
  {
   "cell_type": "code",
   "execution_count": 7,
   "metadata": {},
   "outputs": [
    {
     "data": {
      "text/plain": [
       "<h5 class=\"product-name\" itemprop=\"name\"><a href=\"https://www.sercoplus.com/video-nvidia-geforce/8122-vga-gigabyte-geforce-gt-1030-2gb-gddr4.html\" title=\"VGA GIGABYTE NVIDIA GEFORCE GT 1030 LOW PROFILE D4, 2GB GDDR4\">VGA GIGABYTE NVIDIA GEFORCE GT 1030 LOW PROFILE D4, 2GB GDDR4</a></h5>"
      ]
     },
     "execution_count": 7,
     "metadata": {},
     "output_type": "execute_result"
    }
   ],
   "source": [
    "list_titles=[]\n",
    "list_links=[]\n",
    "list_stocks=[]\n",
    "list_codes=[]\n",
    "list_prices_usd=[]\n",
    "list_prices_pen=[]\n",
    "for title in titles:\n",
    "    a = title.text.strip()\n",
    "    list_titles.append(a)\n",
    "    b = title.find('a')['href']  \n",
    "    list_links.append(b)\n",
    "for index, value in enumerate(details):\n",
    "    if index%2 == 0:\n",
    "        stock = value.find_all('span', class_ = 'price product-price stock-mini')[1]['data-stock']\n",
    "        list_stocks.append(int(stock.strip()))\n",
    "    else:\n",
    "        code = value.find_all('span', class_ = 'price product-price stock-mini')[1].text\n",
    "        list_codes.append(code.strip())\n",
    "for price in prices:\n",
    "    price_usd = re.sub(r'[^\\d,]', '', price.find_all('span', class_='price product-price currency2')[0].text).replace(',', '.')\n",
    "    price_pen = re.sub(r'[^\\d,]', '', price.find_all('span', class_='price product-price currency2')[1].text).replace(',', '.')\n",
    "    list_prices_usd.append(float(price_usd))\n",
    "    list_prices_pen.append(float(price_pen))"
   ]
  },
  {
   "cell_type": "code",
   "execution_count": 12,
   "metadata": {},
   "outputs": [],
   "source": [
    "list_images = []\n",
    "for image in images:\n",
    "    list_images.append(image['href'])"
   ]
  },
  {
   "cell_type": "code",
   "execution_count": 13,
   "metadata": {},
   "outputs": [
    {
     "data": {
      "text/plain": [
       "['https://www.sercoplus.com/2017-home_default/fuente-de-poder-micro-atx-600w-halion-en-caja-retail.jpg',\n",
       " 'https://www.sercoplus.com/25185-home_default/halion-storm-7223-rojo-350w.jpg',\n",
       " 'https://www.sercoplus.com/13744-home_default/cooler-procesador-cooler-master-ma410m-a.jpg',\n",
       " 'https://www.sercoplus.com/22765-home_default/unidad-de-estado-solido-crucial-p1-500gb-nvme-pcie-gen3-x4-m-2-vl-1900-mb-s-ve-950-mb-s-ct500p2ssd8.jpg',\n",
       " 'https://www.sercoplus.com/17517-home_default/cooler-procesador-cm-h410r-red-led.jpg',\n",
       " 'https://www.sercoplus.com/19698-home_default/mem-ram-patriot-signature-premium-16gb.jpg',\n",
       " 'https://www.sercoplus.com/27437-home_default/mainboard-asrock-h370-hdv-lga-1151.jpg',\n",
       " 'https://www.sercoplus.com/31642-home_default/procesador-intel-core-i7-11700f.jpg',\n",
       " 'https://www.sercoplus.com/24601-home_default/fuente-de-poder-cougar-xt550-argb-80-plu.jpg',\n",
       " 'https://www.sercoplus.com/27177-home_default/mem-ram-t-force-delta-tuf-gaming-allian.jpg',\n",
       " 'https://www.sercoplus.com/28702-home_default/refrigeracion-liquida-silverstone-pf120.jpg',\n",
       " 'https://www.sercoplus.com/29369-home_default/mainboard-gigabyte-h610m-h-ddr4-lga-170.jpg']"
      ]
     },
     "execution_count": 13,
     "metadata": {},
     "output_type": "execute_result"
    }
   ],
   "source": [
    "list_images"
   ]
  },
  {
   "cell_type": "code",
   "execution_count": 17,
   "metadata": {},
   "outputs": [
    {
     "data": {
      "text/plain": [
       "'  '"
      ]
     },
     "execution_count": 17,
     "metadata": {},
     "output_type": "execute_result"
    }
   ],
   "source": [
    "images[0].text"
   ]
  },
  {
   "cell_type": "code",
   "execution_count": 8,
   "metadata": {},
   "outputs": [
    {
     "data": {
      "text/plain": [
       "<h5 class=\"product-name\" itemprop=\"name\"><a href=\"https://www.sercoplus.com/fuentes-halion/3074-fuente-de-poder-micro-atx-600w-halion-en-caja-retail.html\" title=\"FUENTE DE PODER HALION MICRO ATX-600W P8, 600W\">FUENTE DE PODER HALION MICRO ATX-600W P8, 600W</a></h5>"
      ]
     },
     "execution_count": 8,
     "metadata": {},
     "output_type": "execute_result"
    }
   ],
   "source": [
    "titles[0]"
   ]
  },
  {
   "cell_type": "code",
   "execution_count": 9,
   "metadata": {},
   "outputs": [
    {
     "data": {
      "text/plain": [
       "<div class=\"first-prices d-flex flex-column\">\n",
       "<span class=\"price product-price currency2\">$ 12,90</span>\n",
       "<span class=\"price product-price currency2\">(S/ 50,05)</span>\n",
       "</div>"
      ]
     },
     "execution_count": 9,
     "metadata": {},
     "output_type": "execute_result"
    }
   ],
   "source": [
    "prices[0]"
   ]
  },
  {
   "cell_type": "code",
   "execution_count": 10,
   "metadata": {},
   "outputs": [
    {
     "data": {
      "text/plain": [
       "<div class=\"first-prices d-flex flex-row\">\n",
       "<span class=\"price product-price stock-mini\">Stock: </span>\n",
       "<span class=\"price product-price stock-mini\" data-allow-oosp=\"0\" data-stock=\"14\"> 14 </span>\n",
       "</div>"
      ]
     },
     "execution_count": 10,
     "metadata": {},
     "output_type": "execute_result"
    }
   ],
   "source": [
    "details[0]"
   ]
  },
  {
   "cell_type": "code",
   "execution_count": 26,
   "metadata": {},
   "outputs": [],
   "source": [
    "a_buscar = 'Componentes'\n",
    "# url = 'https://www.impacto.com.pe/catalogo?menu=Componentes' # + a_buscar\n",
    "\n",
    "url = 'https://www.impacto.com.pedsds'"
   ]
  },
  {
   "cell_type": "code",
   "execution_count": 51,
   "metadata": {},
   "outputs": [],
   "source": [
    "def authentication_page():\n",
    "    try:\n",
    "        r = requests.get(url, timeout=5)\n",
    "        r.raise_for_status()\n",
    "        return r.status_code\n",
    "    except requests.ConnectionError:\n",
    "        print(\"Connection error\")"
   ]
  },
  {
   "cell_type": "code",
   "execution_count": 7,
   "metadata": {},
   "outputs": [
    {
     "data": {
      "text/plain": [
       "'29'"
      ]
     },
     "execution_count": 7,
     "metadata": {},
     "output_type": "execute_result"
    }
   ],
   "source": [
    "r = s.get(url)\n",
    "soup = BeautifulSoup(r.text, 'html.parser')\n",
    "pages = soup.find('ul',class_= 'pagination')\n",
    "number_pag = pages.find_all('a', class_= 'page-link')[-2].text   #.get('href') #.find('a', rel='next') #.find('a')['href'] #[-2].text #.attrs\n",
    "number_pag"
   ]
  },
  {
   "cell_type": "code",
   "execution_count": 3,
   "metadata": {},
   "outputs": [],
   "source": [
    "def get_data(url):\n",
    "    r = s.get(url)\n",
    "    soup = BeautifulSoup(r.html.html, 'html.parser')\n",
    "    return soup"
   ]
  },
  {
   "cell_type": "code",
   "execution_count": 6,
   "metadata": {},
   "outputs": [],
   "source": [
    "# get_data(url)\n",
    "r = s.get(url)\n",
    "soup = BeautifulSoup(r.html.html, 'html.parser')"
   ]
  },
  {
   "cell_type": "code",
   "execution_count": 11,
   "metadata": {},
   "outputs": [
    {
     "data": {
      "text/plain": [
       "<ul class=\"pagination\">\n",
       "<li aria-disabled=\"true\" aria-label=\"« Anterior\" class=\"page-item disabled\">\n",
       "<span aria-hidden=\"true\" class=\"page-link\">‹</span>\n",
       "</li>\n",
       "<li aria-current=\"page\" class=\"page-item active\"><span class=\"page-link\">1</span></li>\n",
       "<li class=\"page-item\"><a class=\"page-link\" href=\"https://www.impacto.com.pe/catalogo?menu=Componentes&amp;page=2\">2</a></li>\n",
       "<li class=\"page-item\"><a class=\"page-link\" href=\"https://www.impacto.com.pe/catalogo?menu=Componentes&amp;page=3\">3</a></li>\n",
       "<li class=\"page-item\"><a class=\"page-link\" href=\"https://www.impacto.com.pe/catalogo?menu=Componentes&amp;page=4\">4</a></li>\n",
       "<li class=\"page-item\"><a class=\"page-link\" href=\"https://www.impacto.com.pe/catalogo?menu=Componentes&amp;page=5\">5</a></li>\n",
       "<li class=\"page-item\"><a class=\"page-link\" href=\"https://www.impacto.com.pe/catalogo?menu=Componentes&amp;page=6\">6</a></li>\n",
       "<li class=\"page-item\"><a class=\"page-link\" href=\"https://www.impacto.com.pe/catalogo?menu=Componentes&amp;page=7\">7</a></li>\n",
       "<li class=\"page-item\"><a class=\"page-link\" href=\"https://www.impacto.com.pe/catalogo?menu=Componentes&amp;page=8\">8</a></li>\n",
       "<li class=\"page-item\"><a class=\"page-link\" href=\"https://www.impacto.com.pe/catalogo?menu=Componentes&amp;page=9\">9</a></li>\n",
       "<li class=\"page-item\"><a class=\"page-link\" href=\"https://www.impacto.com.pe/catalogo?menu=Componentes&amp;page=10\">10</a></li>\n",
       "<li aria-disabled=\"true\" class=\"page-item disabled\"><span class=\"page-link\">...</span></li>\n",
       "<li class=\"page-item\"><a class=\"page-link\" href=\"https://www.impacto.com.pe/catalogo?menu=Componentes&amp;page=30\">30</a></li>\n",
       "<li class=\"page-item\"><a class=\"page-link\" href=\"https://www.impacto.com.pe/catalogo?menu=Componentes&amp;page=31\">31</a></li>\n",
       "<li class=\"page-item\">\n",
       "<a aria-label=\"Siguiente »\" class=\"page-link\" href=\"https://www.impacto.com.pe/catalogo?menu=Componentes&amp;page=2\" rel=\"next\">›</a>\n",
       "</li>\n",
       "</ul>"
      ]
     },
     "execution_count": 11,
     "metadata": {},
     "output_type": "execute_result"
    }
   ],
   "source": [
    "pagina = soup.find('ul',class_= 'pagination')\n",
    "pagina"
   ]
  },
  {
   "cell_type": "code",
   "execution_count": 43,
   "metadata": {},
   "outputs": [
    {
     "data": {
      "text/plain": [
       "'https://www.impacto.com.pe/catalogo?menu=Componentes&page=2'"
      ]
     },
     "execution_count": 43,
     "metadata": {},
     "output_type": "execute_result"
    }
   ],
   "source": [
    "pagina.find('a', class_= 'page-link').get('href') #.find('a', rel='next') #.find('a')['href'] #[-2].text #.attrs"
   ]
  },
  {
   "cell_type": "code",
   "execution_count": 21,
   "metadata": {},
   "outputs": [],
   "source": [
    "def next_page(soup):\n",
    "    pagina = soup.find('ul',{'class':'pagination'})\n",
    "    if not pagina.find('li',{'class':'page-item disabled'}):\n",
    "        url = pagina.find('li',{'class':'page-item'}).find('a')['href']\n",
    "    else:\n",
    "        url = None\n",
    "    return url\n",
    "def pagination(url):\n",
    "    lista_paginas = []\n",
    "    hay_siguiente = True\n",
    "    while hay_siguiente:\n",
    "        try:\n",
    "            soup = get_data(url)\n",
    "            url_siguiente = next_page(soup)\n",
    "            url = url_siguiente\n",
    "            lista_paginas.append(url)\n",
    "        except:\n",
    "            # pagina_final = url_base + '&page=' + soup.find('li', {'class':'page-item active'}).get_text()\n",
    "            hay_siguiente = False\n",
    "            print('final del programa')\n",
    "    return lista_paginas"
   ]
  },
  {
   "cell_type": "code",
   "execution_count": 18,
   "metadata": {},
   "outputs": [
    {
     "name": "stdout",
     "output_type": "stream",
     "text": [
      "final del programa\n"
     ]
    },
    {
     "data": {
      "text/plain": [
       "[None]"
      ]
     },
     "execution_count": 18,
     "metadata": {},
     "output_type": "execute_result"
    }
   ],
   "source": [
    "pagination(url)"
   ]
  },
  {
   "cell_type": "code",
   "execution_count": 1,
   "metadata": {},
   "outputs": [
    {
     "name": "stdout",
     "output_type": "stream",
     "text": [
      "Johanna has 2 apples and Martin has 1 apples\n",
      "Johanna has 2 ideas and Martin has 2 ideas\n"
     ]
    }
   ],
   "source": [
    "class Person:\n",
    "    apples = 0\n",
    "    ideas = 0\n",
    "\n",
    "johanna = Person()\n",
    "johanna.apples = 1\n",
    "johanna.ideas = 1\n",
    "\n",
    "martin = Person()\n",
    "martin.apples = 2\n",
    "martin.ideas = 1\n",
    "\n",
    "def exchange_apples(you, me):\n",
    "  a = martin.apples\n",
    "  b = johanna.apples\n",
    "  you.apples = a\n",
    "  me.apples = b\n",
    "  return you.apples, me.apples\n",
    "\n",
    "def exchange_ideas(you, me):\n",
    "  n = johanna.ideas\n",
    "  m = martin.ideas\n",
    "  you.ideas = n+m\n",
    "  me.ideas = n+m\n",
    "  return you.ideas, me.ideas\n",
    "\n",
    "exchange_apples(johanna, martin)\n",
    "print(\"Johanna has {} apples and Martin has {} apples\".format(johanna.apples, martin.apples))\n",
    "exchange_ideas(johanna, martin)\n",
    "print(\"Johanna has {} ideas and Martin has {} ideas\".format(johanna.ideas, martin.ideas))\n"
   ]
  },
  {
   "cell_type": "code",
   "execution_count": 2,
   "metadata": {},
   "outputs": [
    {
     "name": "stdout",
     "output_type": "stream",
     "text": [
      "Cusco, Peru\n",
      "Sofia, Bulgaria\n",
      "\n"
     ]
    }
   ],
   "source": [
    "class City:\n",
    "\tname = \"\"\n",
    "\tcountry = \"\"\n",
    "\televation = 0 \n",
    "\tpopulation = 0\n",
    "\n",
    "city1 = City()\n",
    "city1.name = \"Cusco\"\n",
    "city1.country = \"Peru\"\n",
    "city1.elevation = 3399\n",
    "city1.population = 358052\n",
    "\n",
    "city2 = City()\n",
    "city2.name = \"Sofia\"\n",
    "city2.country = \"Bulgaria\"\n",
    "city2.elevation = 2290\n",
    "city2.population = 1241675\n",
    "\n",
    "city3 = City()\n",
    "city3.name = \"Seoul\"\n",
    "city3.country = \"South Korea\"\n",
    "city3.elevation = 38\n",
    "city3.population = 9733509\n",
    "\n",
    "def max_elevation_city(min_population):\n",
    "\treturn_city = City()\n",
    "\tif min_population==100000:\n",
    "\t\treturn_city = city1\n",
    "\tif min_population==1000000:\n",
    "\t\treturn_city = city2\n",
    "\tif min_population>1000000 and min_population<10000000:\n",
    "\t\treturn_city = city3\n",
    "\n",
    "\tif return_city.name:\n",
    "\t\treturn \"{}, {}\".format(return_city.name, return_city.country)\n",
    "\telse:\n",
    "\t\treturn \"\"\n",
    "\n",
    "print(max_elevation_city(100000)) # Should print \"Cusco, Peru\"\n",
    "print(max_elevation_city(1000000)) # Should print \"Sofia, Bulgaria\"\n",
    "print(max_elevation_city(10000000)) # Should print \"\""
   ]
  },
  {
   "cell_type": "code",
   "execution_count": 3,
   "metadata": {},
   "outputs": [
    {
     "name": "stdout",
     "output_type": "stream",
     "text": [
      "hi, my name is karla\n"
     ]
    }
   ],
   "source": [
    "class Person:\n",
    "    def __init__(self, name):\n",
    "        self.name = name\n",
    "    def greeting(self):\n",
    "        # Should return \"hi, my name is \" followed by the name of the Person.\n",
    "        return  \"hi, my name is {}\".format(self.name)\n",
    "\n",
    "# Create a new instance with a name of your choice\n",
    "some_person = Person(\"karla\")\n",
    "# Call the greeting method\n",
    "print(some_person.greeting())"
   ]
  },
  {
   "cell_type": "code",
   "execution_count": 4,
   "metadata": {},
   "outputs": [],
   "source": [
    "class Apple:\n",
    "    def __init__(self, color, flavor):\n",
    "        self.color = color\n",
    "        self.flavor = flavor\n",
    "    def __str__(self):\n",
    "        return \"This apple is {} and its flavor is {}\".format(self.color, self.flavor)"
   ]
  },
  {
   "cell_type": "code",
   "execution_count": null,
   "metadata": {},
   "outputs": [],
   "source": []
  }
 ],
 "metadata": {
  "kernelspec": {
   "display_name": "base",
   "language": "python",
   "name": "python3"
  },
  "language_info": {
   "codemirror_mode": {
    "name": "ipython",
    "version": 3
   },
   "file_extension": ".py",
   "mimetype": "text/x-python",
   "name": "python",
   "nbconvert_exporter": "python",
   "pygments_lexer": "ipython3",
   "version": "3.8.5"
  },
  "orig_nbformat": 4
 },
 "nbformat": 4,
 "nbformat_minor": 2
}
