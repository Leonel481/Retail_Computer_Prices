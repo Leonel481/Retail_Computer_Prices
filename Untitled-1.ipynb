{
 "cells": [
  {
   "cell_type": "code",
   "execution_count": 1,
   "metadata": {},
   "outputs": [],
   "source": [
    "# import requests\n",
    "from requests_html import HTMLSession\n",
    "from bs4 import BeautifulSoup\n",
    "s=HTMLSession()"
   ]
  },
  {
   "cell_type": "code",
   "execution_count": 2,
   "metadata": {},
   "outputs": [],
   "source": [
    "a_buscar = 'Componentes'\n",
    "url = 'https://www.impacto.com.pe/catalogo?menu=Componentes' # + a_buscar"
   ]
  },
  {
   "cell_type": "code",
   "execution_count": 3,
   "metadata": {},
   "outputs": [],
   "source": [
    "def get_data(url):\n",
    "    r = s.get(url)\n",
    "    soup = BeautifulSoup(r.html.html, 'html.parser')\n",
    "    return soup"
   ]
  },
  {
   "cell_type": "code",
   "execution_count": 6,
   "metadata": {},
   "outputs": [],
   "source": [
    "# get_data(url)\n",
    "r = s.get(url)\n",
    "soup = BeautifulSoup(r.html.html, 'html.parser')"
   ]
  },
  {
   "cell_type": "code",
   "execution_count": 11,
   "metadata": {},
   "outputs": [
    {
     "data": {
      "text/plain": [
       "<ul class=\"pagination\">\n",
       "<li aria-disabled=\"true\" aria-label=\"« Anterior\" class=\"page-item disabled\">\n",
       "<span aria-hidden=\"true\" class=\"page-link\">‹</span>\n",
       "</li>\n",
       "<li aria-current=\"page\" class=\"page-item active\"><span class=\"page-link\">1</span></li>\n",
       "<li class=\"page-item\"><a class=\"page-link\" href=\"https://www.impacto.com.pe/catalogo?menu=Componentes&amp;page=2\">2</a></li>\n",
       "<li class=\"page-item\"><a class=\"page-link\" href=\"https://www.impacto.com.pe/catalogo?menu=Componentes&amp;page=3\">3</a></li>\n",
       "<li class=\"page-item\"><a class=\"page-link\" href=\"https://www.impacto.com.pe/catalogo?menu=Componentes&amp;page=4\">4</a></li>\n",
       "<li class=\"page-item\"><a class=\"page-link\" href=\"https://www.impacto.com.pe/catalogo?menu=Componentes&amp;page=5\">5</a></li>\n",
       "<li class=\"page-item\"><a class=\"page-link\" href=\"https://www.impacto.com.pe/catalogo?menu=Componentes&amp;page=6\">6</a></li>\n",
       "<li class=\"page-item\"><a class=\"page-link\" href=\"https://www.impacto.com.pe/catalogo?menu=Componentes&amp;page=7\">7</a></li>\n",
       "<li class=\"page-item\"><a class=\"page-link\" href=\"https://www.impacto.com.pe/catalogo?menu=Componentes&amp;page=8\">8</a></li>\n",
       "<li class=\"page-item\"><a class=\"page-link\" href=\"https://www.impacto.com.pe/catalogo?menu=Componentes&amp;page=9\">9</a></li>\n",
       "<li class=\"page-item\"><a class=\"page-link\" href=\"https://www.impacto.com.pe/catalogo?menu=Componentes&amp;page=10\">10</a></li>\n",
       "<li aria-disabled=\"true\" class=\"page-item disabled\"><span class=\"page-link\">...</span></li>\n",
       "<li class=\"page-item\"><a class=\"page-link\" href=\"https://www.impacto.com.pe/catalogo?menu=Componentes&amp;page=30\">30</a></li>\n",
       "<li class=\"page-item\"><a class=\"page-link\" href=\"https://www.impacto.com.pe/catalogo?menu=Componentes&amp;page=31\">31</a></li>\n",
       "<li class=\"page-item\">\n",
       "<a aria-label=\"Siguiente »\" class=\"page-link\" href=\"https://www.impacto.com.pe/catalogo?menu=Componentes&amp;page=2\" rel=\"next\">›</a>\n",
       "</li>\n",
       "</ul>"
      ]
     },
     "execution_count": 11,
     "metadata": {},
     "output_type": "execute_result"
    }
   ],
   "source": [
    "pagina = soup.find('ul',class_= 'pagination')\n",
    "pagina"
   ]
  },
  {
   "cell_type": "code",
   "execution_count": 43,
   "metadata": {},
   "outputs": [
    {
     "data": {
      "text/plain": [
       "'https://www.impacto.com.pe/catalogo?menu=Componentes&page=2'"
      ]
     },
     "execution_count": 43,
     "metadata": {},
     "output_type": "execute_result"
    }
   ],
   "source": [
    "pagina.find('a', class_= 'page-link').get('href') #.find('a', rel='next') #.find('a')['href'] #[-2].text #.attrs"
   ]
  },
  {
   "cell_type": "code",
   "execution_count": 21,
   "metadata": {},
   "outputs": [],
   "source": [
    "def next_page(soup):\n",
    "    pagina = soup.find('ul',{'class':'pagination'})\n",
    "    if not pagina.find('li',{'class':'page-item disabled'}):\n",
    "        url = pagina.find('li',{'class':'page-item'}).find('a')['href']\n",
    "    else:\n",
    "        url = None\n",
    "    return url\n",
    "def pagination(url):\n",
    "    lista_paginas = []\n",
    "    hay_siguiente = True\n",
    "    while hay_siguiente:\n",
    "        try:\n",
    "            soup = get_data(url)\n",
    "            url_siguiente = next_page(soup)\n",
    "            url = url_siguiente\n",
    "            lista_paginas.append(url)\n",
    "        except:\n",
    "            # pagina_final = url_base + '&page=' + soup.find('li', {'class':'page-item active'}).get_text()\n",
    "            hay_siguiente = False\n",
    "            print('final del programa')\n",
    "    return lista_paginas"
   ]
  },
  {
   "cell_type": "code",
   "execution_count": 18,
   "metadata": {},
   "outputs": [
    {
     "name": "stdout",
     "output_type": "stream",
     "text": [
      "final del programa\n"
     ]
    },
    {
     "data": {
      "text/plain": [
       "[None]"
      ]
     },
     "execution_count": 18,
     "metadata": {},
     "output_type": "execute_result"
    }
   ],
   "source": [
    "pagination(url)"
   ]
  },
  {
   "cell_type": "code",
   "execution_count": 1,
   "metadata": {},
   "outputs": [
    {
     "name": "stdout",
     "output_type": "stream",
     "text": [
      "Johanna has 2 apples and Martin has 1 apples\n",
      "Johanna has 2 ideas and Martin has 2 ideas\n"
     ]
    }
   ],
   "source": [
    "class Person:\n",
    "    apples = 0\n",
    "    ideas = 0\n",
    "\n",
    "johanna = Person()\n",
    "johanna.apples = 1\n",
    "johanna.ideas = 1\n",
    "\n",
    "martin = Person()\n",
    "martin.apples = 2\n",
    "martin.ideas = 1\n",
    "\n",
    "def exchange_apples(you, me):\n",
    "  a = martin.apples\n",
    "  b = johanna.apples\n",
    "  you.apples = a\n",
    "  me.apples = b\n",
    "  return you.apples, me.apples\n",
    "\n",
    "def exchange_ideas(you, me):\n",
    "  n = johanna.ideas\n",
    "  m = martin.ideas\n",
    "  you.ideas = n+m\n",
    "  me.ideas = n+m\n",
    "  return you.ideas, me.ideas\n",
    "\n",
    "exchange_apples(johanna, martin)\n",
    "print(\"Johanna has {} apples and Martin has {} apples\".format(johanna.apples, martin.apples))\n",
    "exchange_ideas(johanna, martin)\n",
    "print(\"Johanna has {} ideas and Martin has {} ideas\".format(johanna.ideas, martin.ideas))\n"
   ]
  },
  {
   "cell_type": "code",
   "execution_count": 2,
   "metadata": {},
   "outputs": [
    {
     "name": "stdout",
     "output_type": "stream",
     "text": [
      "Cusco, Peru\n",
      "Sofia, Bulgaria\n",
      "\n"
     ]
    }
   ],
   "source": [
    "class City:\n",
    "\tname = \"\"\n",
    "\tcountry = \"\"\n",
    "\televation = 0 \n",
    "\tpopulation = 0\n",
    "\n",
    "city1 = City()\n",
    "city1.name = \"Cusco\"\n",
    "city1.country = \"Peru\"\n",
    "city1.elevation = 3399\n",
    "city1.population = 358052\n",
    "\n",
    "city2 = City()\n",
    "city2.name = \"Sofia\"\n",
    "city2.country = \"Bulgaria\"\n",
    "city2.elevation = 2290\n",
    "city2.population = 1241675\n",
    "\n",
    "city3 = City()\n",
    "city3.name = \"Seoul\"\n",
    "city3.country = \"South Korea\"\n",
    "city3.elevation = 38\n",
    "city3.population = 9733509\n",
    "\n",
    "def max_elevation_city(min_population):\n",
    "\treturn_city = City()\n",
    "\tif min_population==100000:\n",
    "\t\treturn_city = city1\n",
    "\tif min_population==1000000:\n",
    "\t\treturn_city = city2\n",
    "\tif min_population>1000000 and min_population<10000000:\n",
    "\t\treturn_city = city3\n",
    "\n",
    "\tif return_city.name:\n",
    "\t\treturn \"{}, {}\".format(return_city.name, return_city.country)\n",
    "\telse:\n",
    "\t\treturn \"\"\n",
    "\n",
    "print(max_elevation_city(100000)) # Should print \"Cusco, Peru\"\n",
    "print(max_elevation_city(1000000)) # Should print \"Sofia, Bulgaria\"\n",
    "print(max_elevation_city(10000000)) # Should print \"\""
   ]
  },
  {
   "cell_type": "code",
   "execution_count": 3,
   "metadata": {},
   "outputs": [
    {
     "name": "stdout",
     "output_type": "stream",
     "text": [
      "hi, my name is karla\n"
     ]
    }
   ],
   "source": [
    "class Person:\n",
    "    def __init__(self, name):\n",
    "        self.name = name\n",
    "    def greeting(self):\n",
    "        # Should return \"hi, my name is \" followed by the name of the Person.\n",
    "        return  \"hi, my name is {}\".format(self.name)\n",
    "\n",
    "# Create a new instance with a name of your choice\n",
    "some_person = Person(\"karla\")\n",
    "# Call the greeting method\n",
    "print(some_person.greeting())"
   ]
  },
  {
   "cell_type": "code",
   "execution_count": 4,
   "metadata": {},
   "outputs": [],
   "source": [
    "class Apple:\n",
    "    def __init__(self, color, flavor):\n",
    "        self.color = color\n",
    "        self.flavor = flavor\n",
    "    def __str__(self):\n",
    "        return \"This apple is {} and its flavor is {}\".format(self.color, self.flavor)"
   ]
  },
  {
   "cell_type": "code",
   "execution_count": null,
   "metadata": {},
   "outputs": [],
   "source": []
  }
 ],
 "metadata": {
  "kernelspec": {
   "display_name": "base",
   "language": "python",
   "name": "python3"
  },
  "language_info": {
   "codemirror_mode": {
    "name": "ipython",
    "version": 3
   },
   "file_extension": ".py",
   "mimetype": "text/x-python",
   "name": "python",
   "nbconvert_exporter": "python",
   "pygments_lexer": "ipython3",
   "version": "3.8.5"
  },
  "orig_nbformat": 4
 },
 "nbformat": 4,
 "nbformat_minor": 2
}
