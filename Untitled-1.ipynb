{
 "cells": [
  {
   "cell_type": "code",
   "execution_count": 2,
   "metadata": {},
   "outputs": [],
   "source": [
    "import requests\n",
    "import re\n",
    "import pandas as pd\n",
    "from requests_html import HTMLSession\n",
    "from bs4 import BeautifulSoup\n",
    "s=HTMLSession()"
   ]
  },
  {
   "cell_type": "code",
   "execution_count": 16,
   "metadata": {},
   "outputs": [],
   "source": [
    "class Impacto:\n",
    "    def __init__(self, category, source):\n",
    "        self.category = category\n",
    "        self.source = source\n",
    "    def __str__(self):\n",
    "        return f\"Extrae informacion de la categoria: {self.category} y la almacenada: {self.source}\"\n",
    "    def pagination(self):\n",
    "        url = \"https://www.impacto.com.pe/catalogo?menu=\" + self.category\n",
    "        r = s.get(url)\n",
    "        soup = BeautifulSoup(r.text, 'html.parser')\n",
    "        pages = soup.find('ul',class_= 'pagination')\n",
    "        number_pag = int(pages.find_all('a', class_= 'page-link')[-2].text)\n",
    "        return number_pag\n",
    "    def scraper(self, n):\n",
    "        list_titles = []\n",
    "        list_links = []\n",
    "        list_details_mc = []\n",
    "        list_details_s = []\n",
    "        list_ratings = []\n",
    "        list_prices_s = []\n",
    "        list_prices_d = []\n",
    "        list_images = []\n",
    "        for i in range(1, n + 1):\n",
    "            url = \"https://www.impacto.com.pe/catalogo?menu=\" + self.category + \"&page=\" + str(i)\n",
    "            r = requests.get(url)\n",
    "            soup = BeautifulSoup(r.text, 'html.parser')\n",
    "            titles = soup.find_all('h4', class_='product-title')\n",
    "            details = soup.find_all('div', class_='detail')\n",
    "            ratings = soup.find_all('ul', class_='product-rating')\n",
    "            prices = soup.find_all('div', class_='product-price')\n",
    "            images = soup.find_all('div', class_='product-image')\n",
    "\n",
    "            for title in titles:\n",
    "                a = title.text.strip()\n",
    "                list_titles.append(a)\n",
    "                b = title.find('a')['href']  \n",
    "                list_links.append(b)\n",
    "\n",
    "            for detail in details:\n",
    "                a = detail.text.strip()\n",
    "                list_temp = a.split('\\n')\n",
    "                b = re.sub(r'[\\D]+', '', list_temp[0])\n",
    "                c = re.sub(r'[\\D]+', '', list_temp[1])\n",
    "                list_details_mc.append(b)\n",
    "                list_details_s.append(c)\n",
    "\n",
    "            for rating in ratings:\n",
    "                list_temp_r = rating.find_all('li', class_='rating-on')\n",
    "                list_ratings.append(len(list_temp_r))\n",
    "\n",
    "            for price in prices:\n",
    "                list_temp_pr = price.text.strip().split('\\n')\n",
    "                p_sol = float(re.sub(r'[\\s$\\-]+','',list_temp_pr[0]))\n",
    "                p_dollar = float(re.sub(r'[\\sS\\-\\/]+','',list_temp_pr[1]))\n",
    "                list_prices_s.append(p_sol)\n",
    "                list_prices_d.append(p_dollar)\n",
    "\n",
    "            for image in images:\n",
    "                i = image.find('img')['src']\n",
    "                list_images.append(i)\n",
    "            data = {'titles':list_titles,'links':list_links, 'details_mc':list_details_mc, 'details_s':list_details_s, 'ratings':list_ratings,\n",
    "                    'prices_s':list_prices_s, 'prices_d':list_prices_d, 'images_s':list_images}\n",
    "        dataDF = pd.DataFrame(data = data)\n",
    "        return dataDF"
   ]
  },
  {
   "cell_type": "code",
   "execution_count": 17,
   "metadata": {},
   "outputs": [
    {
     "data": {
      "text/plain": [
       "30"
      ]
     },
     "execution_count": 17,
     "metadata": {},
     "output_type": "execute_result"
    }
   ],
   "source": [
    "S = Impacto('Componentes','df')\n",
    "paginast1 = S.pagination()\n",
    "paginast1"
   ]
  },
  {
   "cell_type": "code",
   "execution_count": 18,
   "metadata": {},
   "outputs": [],
   "source": [
    "datos = S.scraper(paginast1)"
   ]
  },
  {
   "cell_type": "code",
   "execution_count": 19,
   "metadata": {},
   "outputs": [
    {
     "data": {
      "text/html": [
       "<div>\n",
       "<style scoped>\n",
       "    .dataframe tbody tr th:only-of-type {\n",
       "        vertical-align: middle;\n",
       "    }\n",
       "\n",
       "    .dataframe tbody tr th {\n",
       "        vertical-align: top;\n",
       "    }\n",
       "\n",
       "    .dataframe thead th {\n",
       "        text-align: right;\n",
       "    }\n",
       "</style>\n",
       "<table border=\"1\" class=\"dataframe\">\n",
       "  <thead>\n",
       "    <tr style=\"text-align: right;\">\n",
       "      <th></th>\n",
       "      <th>titles</th>\n",
       "      <th>links</th>\n",
       "      <th>details_mc</th>\n",
       "      <th>details_s</th>\n",
       "      <th>ratings</th>\n",
       "      <th>prices_s</th>\n",
       "      <th>prices_d</th>\n",
       "      <th>images_s</th>\n",
       "    </tr>\n",
       "  </thead>\n",
       "  <tbody>\n",
       "    <tr>\n",
       "      <th>0</th>\n",
       "      <td>CASE GAMBYTE SCALE SIN FUENTE, CON PANEL VIDRI...</td>\n",
       "      <td>https://www.impacto.com.pe/producto/case-gamby...</td>\n",
       "      <td>017462</td>\n",
       "      <td>10</td>\n",
       "      <td>0</td>\n",
       "      <td>41.5</td>\n",
       "      <td>159.36</td>\n",
       "      <td>https://www.impacto.com.pe/storage/products/sm...</td>\n",
       "    </tr>\n",
       "    <tr>\n",
       "      <th>1</th>\n",
       "      <td>CASE GAMBYTE EXTINTION SIN FUENTE, CON PANEL L...</td>\n",
       "      <td>https://www.impacto.com.pe/producto/case-gamby...</td>\n",
       "      <td>012558</td>\n",
       "      <td>10</td>\n",
       "      <td>3</td>\n",
       "      <td>86.0</td>\n",
       "      <td>330.24</td>\n",
       "      <td>https://www.impacto.com.pe/storage/products/sm...</td>\n",
       "    </tr>\n",
       "    <tr>\n",
       "      <th>2</th>\n",
       "      <td>CASE GAMBYTE SHADOW BLADE SIN FUENTE, CON PANE...</td>\n",
       "      <td>https://www.impacto.com.pe/producto/case-gamby...</td>\n",
       "      <td>012557</td>\n",
       "      <td>10</td>\n",
       "      <td>3</td>\n",
       "      <td>114.0</td>\n",
       "      <td>437.76</td>\n",
       "      <td>https://www.impacto.com.pe/storage/products/sm...</td>\n",
       "    </tr>\n",
       "    <tr>\n",
       "      <th>3</th>\n",
       "      <td>CASE GAMBYTE SHIELD SIN FUENTE, CON PANEL VIDR...</td>\n",
       "      <td>https://www.impacto.com.pe/producto/case-gamby...</td>\n",
       "      <td>017461</td>\n",
       "      <td>10</td>\n",
       "      <td>0</td>\n",
       "      <td>41.5</td>\n",
       "      <td>159.36</td>\n",
       "      <td>https://www.impacto.com.pe/storage/products/sm...</td>\n",
       "    </tr>\n",
       "    <tr>\n",
       "      <th>4</th>\n",
       "      <td>CASE GAMBYTE GHOSTX SIN FUENTE, CON PANEL LATE...</td>\n",
       "      <td>https://www.impacto.com.pe/producto/case-gamby...</td>\n",
       "      <td>013094</td>\n",
       "      <td>10</td>\n",
       "      <td>3</td>\n",
       "      <td>148.0</td>\n",
       "      <td>568.32</td>\n",
       "      <td>https://www.impacto.com.pe/storage/products/sm...</td>\n",
       "    </tr>\n",
       "  </tbody>\n",
       "</table>\n",
       "</div>"
      ],
      "text/plain": [
       "                                              titles  \\\n",
       "0  CASE GAMBYTE SCALE SIN FUENTE, CON PANEL VIDRI...   \n",
       "1  CASE GAMBYTE EXTINTION SIN FUENTE, CON PANEL L...   \n",
       "2  CASE GAMBYTE SHADOW BLADE SIN FUENTE, CON PANE...   \n",
       "3  CASE GAMBYTE SHIELD SIN FUENTE, CON PANEL VIDR...   \n",
       "4  CASE GAMBYTE GHOSTX SIN FUENTE, CON PANEL LATE...   \n",
       "\n",
       "                                               links details_mc details_s  \\\n",
       "0  https://www.impacto.com.pe/producto/case-gamby...     017462        10   \n",
       "1  https://www.impacto.com.pe/producto/case-gamby...     012558        10   \n",
       "2  https://www.impacto.com.pe/producto/case-gamby...     012557        10   \n",
       "3  https://www.impacto.com.pe/producto/case-gamby...     017461        10   \n",
       "4  https://www.impacto.com.pe/producto/case-gamby...     013094        10   \n",
       "\n",
       "   ratings  prices_s  prices_d  \\\n",
       "0        0      41.5    159.36   \n",
       "1        3      86.0    330.24   \n",
       "2        3     114.0    437.76   \n",
       "3        0      41.5    159.36   \n",
       "4        3     148.0    568.32   \n",
       "\n",
       "                                            images_s  \n",
       "0  https://www.impacto.com.pe/storage/products/sm...  \n",
       "1  https://www.impacto.com.pe/storage/products/sm...  \n",
       "2  https://www.impacto.com.pe/storage/products/sm...  \n",
       "3  https://www.impacto.com.pe/storage/products/sm...  \n",
       "4  https://www.impacto.com.pe/storage/products/sm...  "
      ]
     },
     "execution_count": 19,
     "metadata": {},
     "output_type": "execute_result"
    }
   ],
   "source": [
    "datos.head()"
   ]
  },
  {
   "cell_type": "code",
   "execution_count": 21,
   "metadata": {},
   "outputs": [
    {
     "data": {
      "text/html": [
       "<div>\n",
       "<style scoped>\n",
       "    .dataframe tbody tr th:only-of-type {\n",
       "        vertical-align: middle;\n",
       "    }\n",
       "\n",
       "    .dataframe tbody tr th {\n",
       "        vertical-align: top;\n",
       "    }\n",
       "\n",
       "    .dataframe thead th {\n",
       "        text-align: right;\n",
       "    }\n",
       "</style>\n",
       "<table border=\"1\" class=\"dataframe\">\n",
       "  <thead>\n",
       "    <tr style=\"text-align: right;\">\n",
       "      <th></th>\n",
       "      <th>titles</th>\n",
       "      <th>links</th>\n",
       "      <th>details_mc</th>\n",
       "      <th>details_s</th>\n",
       "      <th>ratings</th>\n",
       "      <th>prices_s</th>\n",
       "      <th>prices_d</th>\n",
       "      <th>images_s</th>\n",
       "    </tr>\n",
       "  </thead>\n",
       "  <tbody>\n",
       "    <tr>\n",
       "      <th>577</th>\n",
       "      <td>FUENTE DE PODER GAMBYTE GN500W ATX, OEM BASIC ...</td>\n",
       "      <td>https://www.impacto.com.pe/producto/fuente-de-...</td>\n",
       "      <td>017141</td>\n",
       "      <td>1</td>\n",
       "      <td>0</td>\n",
       "      <td>45.0</td>\n",
       "      <td>172.80</td>\n",
       "      <td>https://www.impacto.com.pe/storage/products/sm...</td>\n",
       "    </tr>\n",
       "    <tr>\n",
       "      <th>578</th>\n",
       "      <td>PROCESADOR INTEL CORE I3 9350KF 4.00GHZ, 8MB, ...</td>\n",
       "      <td>https://www.impacto.com.pe/producto/procesador...</td>\n",
       "      <td>013559</td>\n",
       "      <td>1</td>\n",
       "      <td>3</td>\n",
       "      <td>140.0</td>\n",
       "      <td>537.60</td>\n",
       "      <td>https://www.impacto.com.pe/storage/products/sm...</td>\n",
       "    </tr>\n",
       "    <tr>\n",
       "      <th>579</th>\n",
       "      <td>CASE AVATEC CERTIFICADO FUENTE 550W, CON PANEL...</td>\n",
       "      <td>https://www.impacto.com.pe/producto/case-avate...</td>\n",
       "      <td>012536</td>\n",
       "      <td>1</td>\n",
       "      <td>3</td>\n",
       "      <td>72.0</td>\n",
       "      <td>276.48</td>\n",
       "      <td>https://www.impacto.com.pe/storage/products/sm...</td>\n",
       "    </tr>\n",
       "    <tr>\n",
       "      <th>580</th>\n",
       "      <td>TARJETA DE VIDEO GIGABYTE RTX 4080 16GB GAMING...</td>\n",
       "      <td>https://www.impacto.com.pe/producto/tarjeta-de...</td>\n",
       "      <td>016889</td>\n",
       "      <td>1</td>\n",
       "      <td>0</td>\n",
       "      <td>1589.0</td>\n",
       "      <td>6101.76</td>\n",
       "      <td>https://www.impacto.com.pe/storage/resource_mu...</td>\n",
       "    </tr>\n",
       "    <tr>\n",
       "      <th>581</th>\n",
       "      <td>FUENTE DE PODER EVGA 500W ATX, GOLD 80 PLUS, N...</td>\n",
       "      <td>https://www.impacto.com.pe/producto/fuente-de-...</td>\n",
       "      <td>011007</td>\n",
       "      <td>1</td>\n",
       "      <td>3</td>\n",
       "      <td>74.5</td>\n",
       "      <td>286.08</td>\n",
       "      <td>https://www.impacto.com.pe/storage/products/sm...</td>\n",
       "    </tr>\n",
       "  </tbody>\n",
       "</table>\n",
       "</div>"
      ],
      "text/plain": [
       "                                                titles  \\\n",
       "577  FUENTE DE PODER GAMBYTE GN500W ATX, OEM BASIC ...   \n",
       "578  PROCESADOR INTEL CORE I3 9350KF 4.00GHZ, 8MB, ...   \n",
       "579  CASE AVATEC CERTIFICADO FUENTE 550W, CON PANEL...   \n",
       "580  TARJETA DE VIDEO GIGABYTE RTX 4080 16GB GAMING...   \n",
       "581  FUENTE DE PODER EVGA 500W ATX, GOLD 80 PLUS, N...   \n",
       "\n",
       "                                                 links details_mc details_s  \\\n",
       "577  https://www.impacto.com.pe/producto/fuente-de-...     017141         1   \n",
       "578  https://www.impacto.com.pe/producto/procesador...     013559         1   \n",
       "579  https://www.impacto.com.pe/producto/case-avate...     012536         1   \n",
       "580  https://www.impacto.com.pe/producto/tarjeta-de...     016889         1   \n",
       "581  https://www.impacto.com.pe/producto/fuente-de-...     011007         1   \n",
       "\n",
       "     ratings  prices_s  prices_d  \\\n",
       "577        0      45.0    172.80   \n",
       "578        3     140.0    537.60   \n",
       "579        3      72.0    276.48   \n",
       "580        0    1589.0   6101.76   \n",
       "581        3      74.5    286.08   \n",
       "\n",
       "                                              images_s  \n",
       "577  https://www.impacto.com.pe/storage/products/sm...  \n",
       "578  https://www.impacto.com.pe/storage/products/sm...  \n",
       "579  https://www.impacto.com.pe/storage/products/sm...  \n",
       "580  https://www.impacto.com.pe/storage/resource_mu...  \n",
       "581  https://www.impacto.com.pe/storage/products/sm...  "
      ]
     },
     "execution_count": 21,
     "metadata": {},
     "output_type": "execute_result"
    }
   ],
   "source": [
    "datos.tail()"
   ]
  },
  {
   "cell_type": "code",
   "execution_count": 26,
   "metadata": {},
   "outputs": [],
   "source": [
    "a_buscar = 'Componentes'\n",
    "# url = 'https://www.impacto.com.pe/catalogo?menu=Componentes' # + a_buscar\n",
    "\n",
    "url = 'https://www.impacto.com.pedsds'"
   ]
  },
  {
   "cell_type": "code",
   "execution_count": 27,
   "metadata": {},
   "outputs": [],
   "source": [
    "def authentication_page():\n",
    "    try:\n",
    "        r = requests.get(url, timeout=5)\n",
    "        r.raise_for_status()\n",
    "        return r.status_code\n",
    "    except requests.ConnectionError:\n",
    "        print(\"Connection error\")"
   ]
  },
  {
   "cell_type": "code",
   "execution_count": 28,
   "metadata": {},
   "outputs": [
    {
     "name": "stdout",
     "output_type": "stream",
     "text": [
      "Connection error\n"
     ]
    }
   ],
   "source": [
    "authentication_page()"
   ]
  },
  {
   "cell_type": "code",
   "execution_count": 7,
   "metadata": {},
   "outputs": [
    {
     "data": {
      "text/plain": [
       "'29'"
      ]
     },
     "execution_count": 7,
     "metadata": {},
     "output_type": "execute_result"
    }
   ],
   "source": [
    "r = s.get(url)\n",
    "soup = BeautifulSoup(r.text, 'html.parser')\n",
    "pages = soup.find('ul',class_= 'pagination')\n",
    "number_pag = pages.find_all('a', class_= 'page-link')[-2].text   #.get('href') #.find('a', rel='next') #.find('a')['href'] #[-2].text #.attrs\n",
    "number_pag"
   ]
  },
  {
   "cell_type": "code",
   "execution_count": 3,
   "metadata": {},
   "outputs": [],
   "source": [
    "def get_data(url):\n",
    "    r = s.get(url)\n",
    "    soup = BeautifulSoup(r.html.html, 'html.parser')\n",
    "    return soup"
   ]
  },
  {
   "cell_type": "code",
   "execution_count": 6,
   "metadata": {},
   "outputs": [],
   "source": [
    "# get_data(url)\n",
    "r = s.get(url)\n",
    "soup = BeautifulSoup(r.html.html, 'html.parser')"
   ]
  },
  {
   "cell_type": "code",
   "execution_count": 11,
   "metadata": {},
   "outputs": [
    {
     "data": {
      "text/plain": [
       "<ul class=\"pagination\">\n",
       "<li aria-disabled=\"true\" aria-label=\"« Anterior\" class=\"page-item disabled\">\n",
       "<span aria-hidden=\"true\" class=\"page-link\">‹</span>\n",
       "</li>\n",
       "<li aria-current=\"page\" class=\"page-item active\"><span class=\"page-link\">1</span></li>\n",
       "<li class=\"page-item\"><a class=\"page-link\" href=\"https://www.impacto.com.pe/catalogo?menu=Componentes&amp;page=2\">2</a></li>\n",
       "<li class=\"page-item\"><a class=\"page-link\" href=\"https://www.impacto.com.pe/catalogo?menu=Componentes&amp;page=3\">3</a></li>\n",
       "<li class=\"page-item\"><a class=\"page-link\" href=\"https://www.impacto.com.pe/catalogo?menu=Componentes&amp;page=4\">4</a></li>\n",
       "<li class=\"page-item\"><a class=\"page-link\" href=\"https://www.impacto.com.pe/catalogo?menu=Componentes&amp;page=5\">5</a></li>\n",
       "<li class=\"page-item\"><a class=\"page-link\" href=\"https://www.impacto.com.pe/catalogo?menu=Componentes&amp;page=6\">6</a></li>\n",
       "<li class=\"page-item\"><a class=\"page-link\" href=\"https://www.impacto.com.pe/catalogo?menu=Componentes&amp;page=7\">7</a></li>\n",
       "<li class=\"page-item\"><a class=\"page-link\" href=\"https://www.impacto.com.pe/catalogo?menu=Componentes&amp;page=8\">8</a></li>\n",
       "<li class=\"page-item\"><a class=\"page-link\" href=\"https://www.impacto.com.pe/catalogo?menu=Componentes&amp;page=9\">9</a></li>\n",
       "<li class=\"page-item\"><a class=\"page-link\" href=\"https://www.impacto.com.pe/catalogo?menu=Componentes&amp;page=10\">10</a></li>\n",
       "<li aria-disabled=\"true\" class=\"page-item disabled\"><span class=\"page-link\">...</span></li>\n",
       "<li class=\"page-item\"><a class=\"page-link\" href=\"https://www.impacto.com.pe/catalogo?menu=Componentes&amp;page=30\">30</a></li>\n",
       "<li class=\"page-item\"><a class=\"page-link\" href=\"https://www.impacto.com.pe/catalogo?menu=Componentes&amp;page=31\">31</a></li>\n",
       "<li class=\"page-item\">\n",
       "<a aria-label=\"Siguiente »\" class=\"page-link\" href=\"https://www.impacto.com.pe/catalogo?menu=Componentes&amp;page=2\" rel=\"next\">›</a>\n",
       "</li>\n",
       "</ul>"
      ]
     },
     "execution_count": 11,
     "metadata": {},
     "output_type": "execute_result"
    }
   ],
   "source": [
    "pagina = soup.find('ul',class_= 'pagination')\n",
    "pagina"
   ]
  },
  {
   "cell_type": "code",
   "execution_count": 43,
   "metadata": {},
   "outputs": [
    {
     "data": {
      "text/plain": [
       "'https://www.impacto.com.pe/catalogo?menu=Componentes&page=2'"
      ]
     },
     "execution_count": 43,
     "metadata": {},
     "output_type": "execute_result"
    }
   ],
   "source": [
    "pagina.find('a', class_= 'page-link').get('href') #.find('a', rel='next') #.find('a')['href'] #[-2].text #.attrs"
   ]
  },
  {
   "cell_type": "code",
   "execution_count": 21,
   "metadata": {},
   "outputs": [],
   "source": [
    "def next_page(soup):\n",
    "    pagina = soup.find('ul',{'class':'pagination'})\n",
    "    if not pagina.find('li',{'class':'page-item disabled'}):\n",
    "        url = pagina.find('li',{'class':'page-item'}).find('a')['href']\n",
    "    else:\n",
    "        url = None\n",
    "    return url\n",
    "def pagination(url):\n",
    "    lista_paginas = []\n",
    "    hay_siguiente = True\n",
    "    while hay_siguiente:\n",
    "        try:\n",
    "            soup = get_data(url)\n",
    "            url_siguiente = next_page(soup)\n",
    "            url = url_siguiente\n",
    "            lista_paginas.append(url)\n",
    "        except:\n",
    "            # pagina_final = url_base + '&page=' + soup.find('li', {'class':'page-item active'}).get_text()\n",
    "            hay_siguiente = False\n",
    "            print('final del programa')\n",
    "    return lista_paginas"
   ]
  },
  {
   "cell_type": "code",
   "execution_count": 18,
   "metadata": {},
   "outputs": [
    {
     "name": "stdout",
     "output_type": "stream",
     "text": [
      "final del programa\n"
     ]
    },
    {
     "data": {
      "text/plain": [
       "[None]"
      ]
     },
     "execution_count": 18,
     "metadata": {},
     "output_type": "execute_result"
    }
   ],
   "source": [
    "pagination(url)"
   ]
  },
  {
   "cell_type": "code",
   "execution_count": 1,
   "metadata": {},
   "outputs": [
    {
     "name": "stdout",
     "output_type": "stream",
     "text": [
      "Johanna has 2 apples and Martin has 1 apples\n",
      "Johanna has 2 ideas and Martin has 2 ideas\n"
     ]
    }
   ],
   "source": [
    "class Person:\n",
    "    apples = 0\n",
    "    ideas = 0\n",
    "\n",
    "johanna = Person()\n",
    "johanna.apples = 1\n",
    "johanna.ideas = 1\n",
    "\n",
    "martin = Person()\n",
    "martin.apples = 2\n",
    "martin.ideas = 1\n",
    "\n",
    "def exchange_apples(you, me):\n",
    "  a = martin.apples\n",
    "  b = johanna.apples\n",
    "  you.apples = a\n",
    "  me.apples = b\n",
    "  return you.apples, me.apples\n",
    "\n",
    "def exchange_ideas(you, me):\n",
    "  n = johanna.ideas\n",
    "  m = martin.ideas\n",
    "  you.ideas = n+m\n",
    "  me.ideas = n+m\n",
    "  return you.ideas, me.ideas\n",
    "\n",
    "exchange_apples(johanna, martin)\n",
    "print(\"Johanna has {} apples and Martin has {} apples\".format(johanna.apples, martin.apples))\n",
    "exchange_ideas(johanna, martin)\n",
    "print(\"Johanna has {} ideas and Martin has {} ideas\".format(johanna.ideas, martin.ideas))\n"
   ]
  },
  {
   "cell_type": "code",
   "execution_count": 2,
   "metadata": {},
   "outputs": [
    {
     "name": "stdout",
     "output_type": "stream",
     "text": [
      "Cusco, Peru\n",
      "Sofia, Bulgaria\n",
      "\n"
     ]
    }
   ],
   "source": [
    "class City:\n",
    "\tname = \"\"\n",
    "\tcountry = \"\"\n",
    "\televation = 0 \n",
    "\tpopulation = 0\n",
    "\n",
    "city1 = City()\n",
    "city1.name = \"Cusco\"\n",
    "city1.country = \"Peru\"\n",
    "city1.elevation = 3399\n",
    "city1.population = 358052\n",
    "\n",
    "city2 = City()\n",
    "city2.name = \"Sofia\"\n",
    "city2.country = \"Bulgaria\"\n",
    "city2.elevation = 2290\n",
    "city2.population = 1241675\n",
    "\n",
    "city3 = City()\n",
    "city3.name = \"Seoul\"\n",
    "city3.country = \"South Korea\"\n",
    "city3.elevation = 38\n",
    "city3.population = 9733509\n",
    "\n",
    "def max_elevation_city(min_population):\n",
    "\treturn_city = City()\n",
    "\tif min_population==100000:\n",
    "\t\treturn_city = city1\n",
    "\tif min_population==1000000:\n",
    "\t\treturn_city = city2\n",
    "\tif min_population>1000000 and min_population<10000000:\n",
    "\t\treturn_city = city3\n",
    "\n",
    "\tif return_city.name:\n",
    "\t\treturn \"{}, {}\".format(return_city.name, return_city.country)\n",
    "\telse:\n",
    "\t\treturn \"\"\n",
    "\n",
    "print(max_elevation_city(100000)) # Should print \"Cusco, Peru\"\n",
    "print(max_elevation_city(1000000)) # Should print \"Sofia, Bulgaria\"\n",
    "print(max_elevation_city(10000000)) # Should print \"\""
   ]
  },
  {
   "cell_type": "code",
   "execution_count": 3,
   "metadata": {},
   "outputs": [
    {
     "name": "stdout",
     "output_type": "stream",
     "text": [
      "hi, my name is karla\n"
     ]
    }
   ],
   "source": [
    "class Person:\n",
    "    def __init__(self, name):\n",
    "        self.name = name\n",
    "    def greeting(self):\n",
    "        # Should return \"hi, my name is \" followed by the name of the Person.\n",
    "        return  \"hi, my name is {}\".format(self.name)\n",
    "\n",
    "# Create a new instance with a name of your choice\n",
    "some_person = Person(\"karla\")\n",
    "# Call the greeting method\n",
    "print(some_person.greeting())"
   ]
  },
  {
   "cell_type": "code",
   "execution_count": 4,
   "metadata": {},
   "outputs": [],
   "source": [
    "class Apple:\n",
    "    def __init__(self, color, flavor):\n",
    "        self.color = color\n",
    "        self.flavor = flavor\n",
    "    def __str__(self):\n",
    "        return \"This apple is {} and its flavor is {}\".format(self.color, self.flavor)"
   ]
  },
  {
   "cell_type": "code",
   "execution_count": null,
   "metadata": {},
   "outputs": [],
   "source": []
  }
 ],
 "metadata": {
  "kernelspec": {
   "display_name": "base",
   "language": "python",
   "name": "python3"
  },
  "language_info": {
   "codemirror_mode": {
    "name": "ipython",
    "version": 3
   },
   "file_extension": ".py",
   "mimetype": "text/x-python",
   "name": "python",
   "nbconvert_exporter": "python",
   "pygments_lexer": "ipython3",
   "version": "3.8.5"
  },
  "orig_nbformat": 4
 },
 "nbformat": 4,
 "nbformat_minor": 2
}
