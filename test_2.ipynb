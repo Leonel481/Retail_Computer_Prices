{
 "cells": [
  {
   "cell_type": "code",
   "execution_count": 1,
   "metadata": {},
   "outputs": [],
   "source": [
    "import requests\n",
    "from bs4 import BeautifulSoup\n",
    "import re"
   ]
  },
  {
   "cell_type": "code",
   "execution_count": 6,
   "metadata": {},
   "outputs": [],
   "source": [
    "category = 'Componentes' ## choose the component\n",
    "page = 29\n",
    "url_base = 'https://www.impacto.com.pe/catalogo?menu='\n",
    "url = url_base + category + '&page=' + str(page)\n",
    "response = requests.get(url)"
   ]
  },
  {
   "cell_type": "code",
   "execution_count": 8,
   "metadata": {},
   "outputs": [],
   "source": [
    "while response.status_code == 200:\n",
    "    print(page)\n",
    "    print(url)\n",
    "    print(response.status_code)\n",
    "    page += 1\n",
    "    url = url_base + category + '&page=' + str(page)\n",
    "    response = requests.get(url)\n"
   ]
  },
  {
   "cell_type": "code",
   "execution_count": 7,
   "metadata": {},
   "outputs": [],
   "source": [
    "url = 'https://www.impacto.com.pe/catalogo?menu=Componentes&page=29'\n",
    "\n",
    "r = requests.get(url)\n",
    "soup = BeautifulSoup(r.text, 'html.parser')\n",
    "list_titles = []\n",
    "list_links = []\n",
    "list_details_mc = []\n",
    "list_details_s = []\n",
    "list_ratings = []\n",
    "list_prices_s = []\n",
    "list_prices_d = []\n",
    "list_images = []\n",
    "titles = soup.find_all('h4', class_='product-title')\n",
    "details = soup.find_all('div', class_='detail')\n",
    "ratings = soup.find_all('ul', class_='product-rating')\n",
    "prices = soup.find_all('div', class_='product-price')\n",
    "images = soup.find_all('div', class_='product-image')\n",
    "\n",
    "for title in titles:\n",
    "    a = title.text.strip()\n",
    "    list_titles.append(a)\n",
    "    b = title.find('a')['href']  \n",
    "    list_links.append(b)\n",
    "\n",
    "for detail in details:\n",
    "    a = detail.text.strip()\n",
    "    list_temp = a.split('\\n')\n",
    "    b = re.sub(r'[\\D]+', '', list_temp[0])\n",
    "    c = re.sub(r'[\\D]+', '', list_temp[1])\n",
    "    list_details_mc.append(b)\n",
    "    list_details_s.append(c)\n",
    "\n",
    "for rating in ratings:\n",
    "    list_temp_r = rating.find_all('li', class_='rating-on')\n",
    "    list_ratings.append(len(list_temp_r))\n",
    "\n",
    "for price in prices:\n",
    "    list_temp_pr = price.text.strip().split('\\n')\n",
    "    p_sol = float(re.sub(r'[\\s$\\-]+','',list_temp_pr[0]))\n",
    "    p_dollar = float(re.sub(r'[\\sS\\-\\/]+','',list_temp_pr[1]))\n",
    "    list_prices_s.append(p_sol)\n",
    "    list_prices_d.append(p_dollar)\n",
    "\n",
    "for image in images:\n",
    "    i = image.find('img')['src']\n",
    "    list_images.append(i)"
   ]
  },
  {
   "cell_type": "code",
   "execution_count": 3,
   "metadata": {},
   "outputs": [],
   "source": [
    "# list_titles = []\n",
    "# list_links = []\n",
    "# list_details_mc = []\n",
    "# list_details_s = []\n",
    "# list_ratings = []\n",
    "# list_prices_s = []\n",
    "# list_prices_d = []\n",
    "# list_images = []"
   ]
  },
  {
   "cell_type": "code",
   "execution_count": 8,
   "metadata": {},
   "outputs": [
    {
     "data": {
      "text/plain": [
       "['https://www.impacto.com.pe/producto/memoria-usb-kingston-32-gb-micro-usb-negro-c-gris-dispositivo-de-almacenamiento-usb-3-0-dtdu03c32gb',\n",
       " 'https://www.impacto.com.pe/producto/sistema-de-enfriamiento-liquido-cooler-master-masterliquid-ml240-illusion-with-lga-1700-negro-mlx-d24m-a18p2-r1-am4-led-argb',\n",
       " 'https://www.impacto.com.pe/producto/diso-duro-seagate-500gb-verde-cache-128mb-velocidad-de-rotacion-5400-rpm-formato-de-2-5-sata-6-para-laptop-st500lm030',\n",
       " 'https://www.impacto.com.pe/producto/disco-duro-wester-digital-8tb-purpura-cache-128mb-velocidad-de-rotacion-5640-rpm-formato-de-3-5-sata-6-para-video-vigilancia-wd84purz',\n",
       " 'https://www.impacto.com.pe/producto/case-cougar-gemini-t-pro-gaming-sin-fuente-con-panel-lateral-de-vidrio-templado-3-ventiladores-led-rgb-2-puertos-usb-color-negro-106kmt0008-00',\n",
       " 'https://www.impacto.com.pe/producto/fuente-de-poder-cooler-master-1050w-atx-gold-80-plus-mwe-v2-modular-color-negro-mpe-a501-afcag-u2',\n",
       " 'https://www.impacto.com.pe/producto/case-cougar-blazer-gaming-sin-fuente-con-paneles-laterales-de-vidrio-templado-2-puertos-usb-salida-de-audio-color-negro-orange-385lmg0-0001',\n",
       " 'https://www.impacto.com.pe/producto/case-gambyte-redyx-sin-fuente-con-panel-lateral-de-vidrio-templado-1-ventilador-led-argb-salida-deaudio-4-puertos-usb-color-negro',\n",
       " 'https://www.impacto.com.pe/producto/case-gambyte-deceptor-sin-fuente-con-panel-lateral-de-vidrio-templado-3-ventiladores-led-argb-3-puertos-usb-salida-de-audio-color-negro',\n",
       " 'https://www.impacto.com.pe/producto/disco-duro-seagate-6tb-barracuda-verde-cache-de-256mb-velocidad-de-rotacion-5400-rpm-formato-de-3-5-sata-6-para-pc-de-escritorio-st6000dm003-',\n",
       " 'https://www.impacto.com.pe/producto/disco-duro-seagate-8tb-skyhawk-ai-vigilancia-nvr-ip-cache-256mb-velocidad-de-rotacion-7200-rpm-formato-de-3-5-sata-6-st8000ve000',\n",
       " 'https://www.impacto.com.pe/producto/disco-duro-externo-seagate-1tb-backup-plus-slim-conexion-usb-3-0-unidad-de-almacenamiento-portable-plateado-sthn1000401',\n",
       " 'https://www.impacto.com.pe/producto/placa-madre-asrock-b660-pro-rs-para-procesadores-intel-lga-1700-4-ranuras-de-memoria-ddr4-hasta-128gb-buss-3200-mhz-12va-13va-gener-b660-pro-rs',\n",
       " 'https://www.impacto.com.pe/producto/placa-madre-asus-rog-strix-z790-e-gaming-wifi-lga-1700-4-ranuras-de-memoria-ddr5-hasta-128gb-90mb1cl0-moeay0',\n",
       " 'https://www.impacto.com.pe/producto/tarjeta-de-video-msi-rtx3060ti-8gb-gddr6-nvidia-ventus-2x-ocv1-lhr-256bits-912-v397-233',\n",
       " 'https://www.impacto.com.pe/producto/case-mini-halion-slim-supra-pro-s616-fuente-350w-con-panel-lateral-de-metal-3-puertos-usb-1-entrada-tipo-c-salida-de-audio-color-negro-s616-pro',\n",
       " 'https://www.impacto.com.pe/producto/disco-duro-externo-lacie-2tb-rugged-thnderbolt-usb-c-usb-c-anti-golpe-stfs2000800',\n",
       " 'https://www.impacto.com.pe/producto/memoria-usb-apacer-64gb-ah25b-gen1-negro-dispositivo-de-almacenamiento-usb-3-2-ap64gah25bb-1',\n",
       " 'https://www.impacto.com.pe/producto/case-asus-rog-z11-mini-itx-sin-fuente-con-panel-lateral-de-vidrio-templado-4-puertos-usb-salida-deaudio-color-negro-90dc00b0-b30000',\n",
       " 'https://www.impacto.com.pe/producto/memoria-usb-apacer-64gb-ah356-gen1-negro-dispositivo-de-almacenamiento-usb-3-2-ap64gah356b-1']"
      ]
     },
     "execution_count": 8,
     "metadata": {},
     "output_type": "execute_result"
    }
   ],
   "source": [
    "list_links"
   ]
  },
  {
   "cell_type": "code",
   "execution_count": null,
   "metadata": {},
   "outputs": [],
   "source": []
  }
 ],
 "metadata": {
  "kernelspec": {
   "display_name": "base",
   "language": "python",
   "name": "python3"
  },
  "language_info": {
   "codemirror_mode": {
    "name": "ipython",
    "version": 3
   },
   "file_extension": ".py",
   "mimetype": "text/x-python",
   "name": "python",
   "nbconvert_exporter": "python",
   "pygments_lexer": "ipython3",
   "version": "3.8.5"
  },
  "orig_nbformat": 4
 },
 "nbformat": 4,
 "nbformat_minor": 2
}
